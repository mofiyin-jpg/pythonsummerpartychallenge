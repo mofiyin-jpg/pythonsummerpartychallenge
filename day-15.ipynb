{
  "cells": [
    {
      "cell_type": "markdown",
      "metadata": {},
      "source": [
        "# Day 15: UberPool Driver Earnings Optimization Strategies"
      ]
    },
    {
      "cell_type": "markdown",
      "metadata": {},
      "source": [
        "You are a Business Analyst on the Uber Pool Product Team working to optimize driver compensation. The team aims to understand how trip characteristics impact driver earnings. Your goal is to develop data-driven recommendations that maximize driver earnings potential."
      ]
    },
    {
      "cell_type": "code",
      "metadata": {},
      "execution_count": null,
      "outputs": [],
      "source": "import pandas as pd\nimport numpy as np\n\nfct_trips_data = [\n  {\n    \"trip_id\": 101,\n    \"driver_id\": 1,\n    \"ride_type\": \"UberPool\",\n    \"trip_date\": \"2024-07-05\",\n    \"rider_count\": 3,\n    \"total_distance\": 10.5,\n    \"total_earnings\": 22.5\n  },\n  {\n    \"trip_id\": 102,\n    \"driver_id\": 1,\n    \"ride_type\": \"UberPool\",\n    \"trip_date\": \"2024-07-15\",\n    \"rider_count\": 2,\n    \"total_distance\": 8,\n    \"total_earnings\": 18\n  },\n  {\n    \"trip_id\": 103,\n    \"driver_id\": 2,\n    \"ride_type\": \"UberPool\",\n    \"trip_date\": \"2024-08-10\",\n    \"rider_count\": 4,\n    \"total_distance\": 15,\n    \"total_earnings\": 35\n  },\n  {\n    \"trip_id\": 104,\n    \"driver_id\": 3,\n    \"ride_type\": \"UberX\",\n    \"trip_date\": \"2024-07-20\",\n    \"rider_count\": 1,\n    \"total_distance\": 5,\n    \"total_earnings\": 12\n  },\n  {\n    \"trip_id\": 105,\n    \"driver_id\": 2,\n    \"ride_type\": \"UberPool\",\n    \"trip_date\": \"2024-09-01\",\n    \"rider_count\": 3,\n    \"total_distance\": 12,\n    \"total_earnings\": 30\n  },\n  {\n    \"trip_id\": 106,\n    \"driver_id\": 4,\n    \"ride_type\": \"UberPool\",\n    \"trip_date\": \"2024-09-15\",\n    \"rider_count\": 5,\n    \"total_distance\": 20,\n    \"total_earnings\": 50\n  },\n  {\n    \"trip_id\": 107,\n    \"driver_id\": 4,\n    \"ride_type\": \"UberPool\",\n    \"trip_date\": \"2024-10-01\",\n    \"rider_count\": 3,\n    \"total_distance\": 9,\n    \"total_earnings\": 25\n  },\n  {\n    \"trip_id\": 108,\n    \"driver_id\": 5,\n    \"ride_type\": \"UberPool\",\n    \"trip_date\": \"2024-08-25\",\n    \"rider_count\": 4,\n    \"total_distance\": 11,\n    \"total_earnings\": 28\n  },\n  {\n    \"trip_id\": 109,\n    \"driver_id\": 1,\n    \"ride_type\": \"UberPool\",\n    \"trip_date\": \"2024-09-30\",\n    \"rider_count\": 3,\n    \"total_distance\": 6,\n    \"total_earnings\": 16\n  },\n  {\n    \"trip_id\": 110,\n    \"driver_id\": 2,\n    \"ride_type\": \"UberPool\",\n    \"trip_date\": \"2024-07-07\",\n    \"rider_count\": 2,\n    \"total_distance\": 7,\n    \"total_earnings\": 15\n  },\n  {\n    \"trip_id\": 111,\n    \"driver_id\": 3,\n    \"ride_type\": \"UberPool\",\n    \"trip_date\": \"2024-08-05\",\n    \"rider_count\": 4,\n    \"total_distance\": 13,\n    \"total_earnings\": 32\n  },\n  {\n    \"trip_id\": 112,\n    \"driver_id\": 5,\n    \"ride_type\": \"UberX\",\n    \"trip_date\": \"2024-09-10\",\n    \"rider_count\": 1,\n    \"total_distance\": 4,\n    \"total_earnings\": 10\n  },\n  {\n    \"trip_id\": 113,\n    \"driver_id\": 6,\n    \"ride_type\": \"UberPool\",\n    \"trip_date\": \"2024-07-30\",\n    \"rider_count\": 3,\n    \"total_distance\": 22,\n    \"total_earnings\": 45\n  },\n  {\n    \"trip_id\": 114,\n    \"driver_id\": 6,\n    \"ride_type\": \"UberPool\",\n    \"trip_date\": \"2024-08-22\",\n    \"rider_count\": 4,\n    \"total_distance\": 18,\n    \"total_earnings\": 42\n  },\n  {\n    \"trip_id\": 115,\n    \"driver_id\": 7,\n    \"ride_type\": \"UberPool\",\n    \"trip_date\": \"2024-09-21\",\n    \"rider_count\": 5,\n    \"total_distance\": 25,\n    \"total_earnings\": 60\n  }\n]\nfct_trips = pd.DataFrame(fct_trips_data)\n"
    },
    {
      "cell_type": "markdown",
      "metadata": {},
      "source": [
        "## Question 1\n\nWhat is the average driver earnings per completed UberPool ride with more than two riders between July 1st and September 30th, 2024? This analysis will help isolate trips that meet specific rider thresholds to understand their impact on driver earnings."
      ]
    },
    {
      "cell_type": "code",
      "metadata": {},
      "execution_count": null,
      "outputs": [],
      "source": "df = fct_trips\n\n# Convert trip_date to datetime\ndf['trip_date'] = pd.to_datetime(df['trip_date'])\n\n# Filter for UberPool rides between July 1 and Sept 30, 2024, with >2 riders\nmask = (\n    (df['ride_type'] == 'UberPool') &\n    (df['trip_date'].between('2024-07-01', '2024-09-30')) &\n    (df['rider_count'] > 2)\n)\n\nfiltered_trips = df[mask]\n\n# Calculate average driver earnings per ride\navg_earnings = filtered_trips['total_earnings'].mean()\n\nprint(avg_earnings)"
    },
    {
      "cell_type": "markdown",
      "metadata": {},
      "source": [
        "## Question 2\n\nFor completed UberPool rides between July 1st and September 30th, 2024, derive a new column calculating earnings per mile (total_earnings divided by total_distance) and then compute the average earnings per mile for rides with more than two riders. This calculation will reveal efficiency metrics for driver compensation."
      ]
    },
    {
      "cell_type": "code",
      "metadata": {},
      "execution_count": null,
      "outputs": [],
      "source": "# Convert trip_date to datetime\ndf['trip_date'] = pd.to_datetime(df['trip_date'])\n\n# Filter UberPool rides July–Sept 2024 with >2 riders\nmask = (\n    (df['ride_type'] == 'UberPool') &\n    (df['trip_date'].between('2024-07-01', '2024-09-30')) &\n    (df['rider_count'] > 2)\n)\nfiltered_trips = df[mask].copy()\n\n# Calculate earnings per mile\nfiltered_trips['earnings_per_mile'] = filtered_trips['total_earnings'] / filtered_trips['total_distance']\n\n# Compute average earnings per mile\navg_epm = filtered_trips['earnings_per_mile'].mean()\n\nprint(avg_epm)"
    },
    {
      "cell_type": "markdown",
      "metadata": {},
      "source": [
        "## Question 3\n\nIdentify the combination of rider count and total distance that results in the highest average driver earnings per UberPool ride between July 1st and September 30th, 2024. This analysis directly recommends optimal trip combination strategies to maximize driver earnings."
      ]
    },
    {
      "cell_type": "code",
      "metadata": {},
      "execution_count": null,
      "outputs": [],
      "source": "# Convert trip_date to datetime\ndf['trip_date'] = pd.to_datetime(df['trip_date'])\n\n#Filter UberPool rides July–Sept 2024\nmask = (\n    (df['ride_type'] == 'UberPool') &\n    (df['trip_date'].between('2024-07-01', '2024-09-30'))\n)\nfiltered_trips = df[mask]\n\n# Group by rider_count and total_distance, compute avg earnings\ngrouped = (\n    filtered_trips\n    .groupby(['rider_count', 'total_distance'])['total_earnings']\n    .mean()\n    .reset_index(name='avg_earnings')\n)\n\n#Find the combination with the max average earnings\nbest_combo = grouped.loc[grouped['avg_earnings'].idxmax()]\n\nprint(best_combo)"
    },
    {
      "cell_type": "markdown",
      "metadata": {},
      "source": [
        "Made with ❤️ by [Interview Master](https://www.interviewmaster.ai)"
      ]
    }
  ],
  "metadata": {
    "kernelspec": {
      "name": "python3",
      "language": "python",
      "display_name": "Python 3"
    },
    "language_info": {
      "name": "python",
      "version": "3",
      "mimetype": "text/x-python",
      "file_extension": ".py"
    }
  },
  "nbformat": 4,
  "nbformat_minor": 5
}
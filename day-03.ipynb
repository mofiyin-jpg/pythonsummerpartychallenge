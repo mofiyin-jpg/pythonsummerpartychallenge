{
  "cells": [
    {
      "cell_type": "markdown",
      "metadata": {},
      "source": [
        "# Day 3: Disney Parks Guest Spending Behavior"
      ]
    },
    {
      "cell_type": "markdown",
      "metadata": {},
      "source": [
        "You are a data analyst working with the Disney Parks revenue team to understand nuanced guest spending patterns across different park experiences. The team wants to develop a comprehensive view of visitor purchasing behaviors. Your goal is to uncover meaningful insights that can drive personalized marketing strategies."
      ]
    },
    {
      "cell_type": "code",
      "metadata": {},
      "execution_count": null,
      "outputs": [],
      "source": "import pandas as pd\nimport numpy as np\n\nfct_guest_spending_data = [\n  {\n    \"guest_id\": 1,\n    \"visit_date\": \"2024-07-05\",\n    \"amount_spent\": 50,\n    \"park_experience_type\": \"Attraction\"\n  },\n  {\n    \"guest_id\": 2,\n    \"visit_date\": \"2024-07-06\",\n    \"amount_spent\": 30,\n    \"park_experience_type\": \"Dining\"\n  },\n  {\n    \"guest_id\": 3,\n    \"visit_date\": \"2024-07-10\",\n    \"amount_spent\": 20.5,\n    \"park_experience_type\": \"Retail\"\n  },\n  {\n    \"guest_id\": 4,\n    \"visit_date\": \"2024-07-12\",\n    \"amount_spent\": 40,\n    \"park_experience_type\": \"Entertainment\"\n  },\n  {\n    \"guest_id\": 1,\n    \"visit_date\": \"2024-07-15\",\n    \"amount_spent\": 35,\n    \"park_experience_type\": \"Dining\"\n  },\n  {\n    \"guest_id\": 5,\n    \"visit_date\": \"2024-07-20\",\n    \"amount_spent\": 60,\n    \"park_experience_type\": \"Attraction\"\n  },\n  {\n    \"guest_id\": 6,\n    \"visit_date\": \"2024-07-25\",\n    \"amount_spent\": 25,\n    \"park_experience_type\": \"Retail\"\n  },\n  {\n    \"guest_id\": 1,\n    \"visit_date\": \"2024-08-03\",\n    \"amount_spent\": 55,\n    \"park_experience_type\": \"Attraction\"\n  },\n  {\n    \"guest_id\": 1,\n    \"visit_date\": \"2024-08-15\",\n    \"amount_spent\": 45,\n    \"park_experience_type\": \"Dining\"\n  },\n  {\n    \"guest_id\": 2,\n    \"visit_date\": \"2024-08-05\",\n    \"amount_spent\": 22,\n    \"park_experience_type\": \"Retail\"\n  },\n  {\n    \"guest_id\": 2,\n    \"visit_date\": \"2024-08-20\",\n    \"amount_spent\": 38,\n    \"park_experience_type\": \"Entertainment\"\n  },\n  {\n    \"guest_id\": 7,\n    \"visit_date\": \"2024-08-10\",\n    \"amount_spent\": 15,\n    \"park_experience_type\": \"Character Meet\"\n  },\n  {\n    \"guest_id\": 3,\n    \"visit_date\": \"2024-08-25\",\n    \"amount_spent\": 28,\n    \"park_experience_type\": \"Retail\"\n  },\n  {\n    \"guest_id\": 3,\n    \"visit_date\": \"2024-08-27\",\n    \"amount_spent\": 32,\n    \"park_experience_type\": \"Dining\"\n  },\n  {\n    \"guest_id\": 1,\n    \"visit_date\": \"2024-09-02\",\n    \"amount_spent\": 65,\n    \"park_experience_type\": \"Attraction\"\n  },\n  {\n    \"guest_id\": 8,\n    \"visit_date\": \"2024-09-05\",\n    \"amount_spent\": 50,\n    \"park_experience_type\": \"Retail\"\n  },\n  {\n    \"guest_id\": 9,\n    \"visit_date\": \"2024-09-15\",\n    \"amount_spent\": 40,\n    \"park_experience_type\": \"Dining\"\n  },\n  {\n    \"guest_id\": 10,\n    \"visit_date\": \"2024-09-20\",\n    \"amount_spent\": 70,\n    \"park_experience_type\": \"Entertainment\"\n  },\n  {\n    \"guest_id\": 1,\n    \"visit_date\": \"2024-09-25\",\n    \"amount_spent\": 35,\n    \"park_experience_type\": \"Dining\"\n  },\n  {\n    \"guest_id\": 8,\n    \"visit_date\": \"2024-09-28\",\n    \"amount_spent\": 10,\n    \"park_experience_type\": \"Character Meet\"\n  }\n]\nfct_guest_spending = pd.DataFrame(fct_guest_spending_data)\n"
    },
    {
      "cell_type": "markdown",
      "metadata": {},
      "source": [
        "## Question 1\n\nWhat is the average spending per guest per visit for each park experience type during July 2024? Ensure that park experience types with no recorded transactions are shown with an average spending of 0.0. This analysis helps establish baseline spending differences essential for later segmentation."
      ]
    },
    {
      "cell_type": "code",
      "metadata": {},
      "execution_count": null,
      "outputs": [],
      "source": "df = fct_guest_spending\ndf['visit_date'] = pd.to_datetime(df['visit_date'])\n\nexperience_types = df[['park_experience_type']].drop_duplicates()\n\njuly_df = df[\n  (df['visit_date'].dt.month == 7) & \n  (df['visit_date'].dt.year == 2024)]\n\n#Group by Park_Experience_Type and compute average spending per visit\navg_spending = july_df.groupby('park_experience_type')['amount_spent'].mean().reset_index()\n\n#Rename column for clarity\navg_spending.rename(columns={'amount_spent': 'avg_spending_per_guest'}, inplace=True)\n\nfull_df = pd.merge(experience_types, avg_spending, on='park_experience_type', how='left')\n\n#Replace missing (NaN) from other months with 0\nfull_df['avg_spending_per_guest'] = full_df['avg_spending_per_guest'].fillna(0.0).round(2)\n\nprint(full_df)"
    },
    {
      "cell_type": "markdown",
      "metadata": {},
      "source": [
        "## Question 2\n\nFor guests who visited our parks more than once in August 2024, what is the difference in spending between their first and their last visit? This investigation, using sequential analysis, will reveal any shifts in guest spending behavior over multiple visits."
      ]
    },
    {
      "cell_type": "code",
      "metadata": {},
      "execution_count": null,
      "outputs": [],
      "source": "df = fct_guest_spending\ndf['visit_date'] = pd.to_datetime(df['visit_date'])\n\naugust_df = df[\n  (df['visit_date'].dt.month == 8) & \n  (df['visit_date'].dt.year == 2024)]\n\n#Count visits per guest\nvisit_counts = august_df.groupby('guest_id').size().reset_index(name='visit_count')\n\n#Filter for guests with more than one visit\nmulti_visit = visit_counts[visit_counts['visit_count'] > 1]['guest_id']\nmulti_visit_df = august_df[august_df['guest_id'].isin(multi_visit)].copy()\n\n#Sort by Guest and Date\nmulti_visit_df = multi_visit_df.sort_values(by=['guest_id', 'visit_date'])\n\n#Get first and last visit per guest\nfirst_visits = multi_visit_df.groupby('guest_id').first().reset_index()\nlast_visits = multi_visit_df.groupby('guest_id').last().reset_index()\n\n#Merge to calculate spending difference\nspending_diff = pd.merge(\n    first_visits[['guest_id', 'amount_spent']], \n    last_visits[['guest_id', 'amount_spent']], \n    on='guest_id', \n    suffixes=('_first', '_last')\n)\n\nspending_diff['spending_difference'] = spending_diff['amount_spent_last'] - spending_diff['amount_spent_first']\n\nprint(spending_diff)"
    },
    {
      "cell_type": "markdown",
      "metadata": {},
      "source": [
        "## Question 3\n\nIn September 2024, how can guests be categorized into distinct spending segments such as Low, Medium, and High based on their total spending? Use the following thresholds for categorization: \n-Low: Includes values from $0 up to, but not including, $50.\n-Medium: Includes values from $50 up to, but not including, $100.\n-High: Includes values from $100 and above. \nExclude guests who did not make any purchases in the period."
      ]
    },
    {
      "cell_type": "code",
      "metadata": {},
      "execution_count": null,
      "outputs": [],
      "source": "df = fct_guest_spending\ndf['visit_date'] = pd.to_datetime(df['visit_date'])\n\nsept_df = df[\n  (df['visit_date'].dt.month == 9) & \n  (df['visit_date'].dt.year == 2024)]\n\n#Calculate total spending per guest\nguest_spending = sept_df.groupby('guest_id')['amount_spent'].sum().reset_index()\n\n#Exclude guests with total spending = 0\nguest_spending = guest_spending[guest_spending['amount_spent'] > 0]\n\n#Categorize spending\ndef categorize_spending(amount):\n    if amount < 50:\n        return 'Low'\n    elif amount < 100:\n        return 'Medium'\n    else:\n        return 'High'\n\nguest_spending['spending_segment'] = guest_spending['amount_spent'].apply(categorize_spending)\n\nprint(guest_spending)"
    },
    {
      "cell_type": "markdown",
      "metadata": {},
      "source": [
        "Made with ❤️ by [Interview Master](https://www.interviewmaster.ai)"
      ]
    }
  ],
  "metadata": {
    "kernelspec": {
      "name": "python3",
      "language": "python",
      "display_name": "Python 3"
    },
    "language_info": {
      "name": "python",
      "version": "3",
      "mimetype": "text/x-python",
      "file_extension": ".py"
    }
  },
  "nbformat": 4,
  "nbformat_minor": 5
}